{
 "cells": [
  {
   "cell_type": "code",
   "execution_count": 3,
   "metadata": {},
   "outputs": [],
   "source": [
    "import json\n",
    "import joblib\n",
    "import numpy as np"
   ]
  },
  {
   "cell_type": "code",
   "execution_count": 4,
   "metadata": {},
   "outputs": [],
   "source": [
    "def preprocess(d):\n",
    "    li=[float(d['Age'])]\n",
    "    li=li+[float(d['Resting Blood Pressure'])]+[(float(d['Cholesterol']))]+\\\n",
    "        [(float(d['Maximum heart rate achieved']))]+[float(d['ST depression induced by exercise'])]\n",
    "\n",
    "    gen =[1,0] if d['Gender']=='Male' else [0,1]\n",
    "\n",
    "    if d['Chest Pain']== 'Asymptomatic':\n",
    "        cp=[1,0,0,0]\n",
    "    elif d['Chest Pain']== 'Atypical Angina':\n",
    "        cp=[0,0,0,1]\n",
    "    elif d['Chest Pain']== 'Non-Anginal Pain':\n",
    "        cp=[0,0,1,0]\n",
    "    else:\n",
    "        cp=[0,1,0,0]\n",
    "    \n",
    "    if float(d['Fasting blood Sugar'])> 120:\n",
    "        fps = [0,1]\n",
    "    else:\n",
    "        fps = [1,0]\n",
    "     \n",
    "    if d['Resting Electrocardiographic Result'] == 'Normal':\n",
    "        restcg=[0,1,0]\n",
    "    elif d['Resting Electrocardiographic Result'] == ' ST-T wave with abnormality':\n",
    "        restcg=[1,0,0]\n",
    "    else:\n",
    "        restcg=[0,0,1]\n",
    "    \n",
    "    if d['Exercise induced Angina'] == 'No':\n",
    "        exang=[1,0]\n",
    "    else:\n",
    "        exang=[0,1]\n",
    "\n",
    "    if d['Slope']=='Upsloping':\n",
    "       slp=[0,0,1]\n",
    "    elif d['Slope']=='Flat':\n",
    "        slp=[0,1,0]\n",
    "    else:\n",
    "        slp=[1,0,0]\n",
    "\n",
    "    if d['Number of major blood vessels'] == '0':\n",
    "        ca = [1,0,0,0,0]\n",
    "    elif d['Number of major blood vessels'] == '1':\n",
    "        ca = [0,1,0,0,0]\n",
    "    elif d['Number of major blood vessels'] == '2':\n",
    "        ca = [1,0,0,0,0]\n",
    "    elif d['Number of major blood vessels'] == '3':\n",
    "        ca = [0,0,0,1,0]\n",
    "    \n",
    "    li=li+gen+cp+fps+restcg+exang+slp+ca\n",
    "    li=np.array(li).reshape(1,26)\n",
    "    \n",
    "    return(li)\n"
   ]
  },
  {
   "cell_type": "code",
   "execution_count": 5,
   "metadata": {},
   "outputs": [
    {
     "name": "stderr",
     "output_type": "stream",
     "text": [
      "/opt/anaconda3/envs/tensor/lib/python3.8/site-packages/sklearn/base.py:329: UserWarning: Trying to unpickle estimator DecisionTreeClassifier from version 0.23.1 when using version 0.23.2. This might lead to breaking code or invalid results. Use at your own risk.\n",
      "  warnings.warn(\n"
     ]
    }
   ],
   "source": [
    "d = {'name':'Aman Verma', \n",
    "              'Age' : '17',\n",
    "              'Gender': 'Male',\n",
    "              'Total Bilirubin': '0.9',\n",
    "              'Direct Bilirubin' : '0.3',\n",
    "              'Alkaline Phosphate' : '202',\n",
    "              'Alamine Aminotransferase' : '22',\n",
    "              'Aspartate Aminotransferase':'19',\n",
    "              'Total Protein' : '7.4',\n",
    "              'Albumin':'4.1',\n",
    "              'Albumin : Globulin Ratio':'1.2'              \n",
    "              }\n",
    "\n",
    "diabetes = {'name':'Aman Verma', \n",
    "              'Age' : '25',\n",
    "              'Gender': 'Male',\n",
    "              'Pregnacies': '0',\n",
    "              'Glucose' : '137',\n",
    "              'Blood Pressure' : '40',\n",
    "              'Insulin' : '168',\n",
    "              'Height':'5',\n",
    "              'Weight' : '65',\n",
    "              'father':'no',\n",
    "              'mother':'no',\n",
    "              'gfather':'no',\n",
    "              'gmother':'no',\n",
    "              'mgfather':'no',\n",
    "              'mgmother' :'no'\n",
    "              }\n",
    "\n",
    "d_heart = {'name':'Aman Verma', \n",
    "              'Age' : '63',\n",
    "              'Gender': 'Male',\n",
    "              'Chest Pain': 'Typical Angina',\n",
    "              'Resting Blood Pressure' : '45',\n",
    "              'Cholesterol' : '67',\n",
    "              'Fasting blood Sugar' : '55',\n",
    "              'Resting Electrocardiographic Result':'+-',\n",
    "              'Maximum heart rate achieved' : '150',\n",
    "              'Exercise induced Angina':'No',\n",
    "              'ST depression induced by exercise':'2.3',                         \n",
    "              'Slope':'Upsloping',       \n",
    "              'Number of major blood vessels':'1' \n",
    "              }\n",
    "model = joblib.load(r'heart.pkl')"
   ]
  },
  {
   "cell_type": "code",
   "execution_count": 6,
   "metadata": {},
   "outputs": [],
   "source": [
    "def predict(d,model):\n",
    "    li = preprocess(d_heart)\n",
    "    result = model.predict(li)\n",
    "\n",
    "    if(result==1):\n",
    "        res = {'Result' : 'Sorry !! {} is predicted at risk, Must Consult to doctor... Get Well Soon !!'.format(d['name'])}\n",
    "    else:\n",
    "        res = {'Result' : 'Woah !! {} is fine. Have a good day Ahead !!'.format(d['name'])}\n",
    "    return(res['Result'])\n"
   ]
  },
  {
   "cell_type": "code",
   "execution_count": 17,
   "metadata": {},
   "outputs": [
    {
     "name": "stdout",
     "output_type": "stream",
     "text": [
      "Sorry !! Aman Verma is predicted at risk, Must Consult to doctor... Get Well Soon !!\n"
     ]
    }
   ],
   "source": [
    "res = predict(d,model)\n",
    "print(res)"
   ]
  },
  {
   "cell_type": "code",
   "execution_count": 18,
   "metadata": {},
   "outputs": [
    {
     "data": {
      "text/plain": [
       "'\"Sorry !! Aman Verma is predicted at risk, Must Consult to doctor... Get Well Soon !!\"'"
      ]
     },
     "execution_count": 18,
     "metadata": {},
     "output_type": "execute_result"
    }
   ],
   "source": [
    "import requests\n",
    "\n",
    "url=\"http://0.0.0.0:9696/\"\n",
    "r = requests.post(url, json = d_heart)\n",
    "r.text.strip()"
   ]
  },
  {
   "cell_type": "code",
   "execution_count": 20,
   "metadata": {},
   "outputs": [
    {
     "data": {
      "text/plain": [
       "'\"Sorry !! Aman Verma is predicted at risk, Must Consult to doctor... Get Well Soon !!\"'"
      ]
     },
     "execution_count": 20,
     "metadata": {},
     "output_type": "execute_result"
    }
   ],
   "source": [
    "import requests\n",
    "\n",
    "url=\"https://mod-heart.herokuapp.com/\"\n",
    "r = requests.post(url, json = d_heart)\n",
    "r.text.strip()"
   ]
  },
  {
   "cell_type": "code",
   "execution_count": null,
   "metadata": {},
   "outputs": [],
   "source": []
  },
  {
   "cell_type": "code",
   "execution_count": null,
   "metadata": {},
   "outputs": [],
   "source": []
  },
  {
   "cell_type": "code",
   "execution_count": null,
   "metadata": {},
   "outputs": [],
   "source": []
  }
 ],
 "metadata": {
  "kernelspec": {
   "display_name": "Python 3",
   "language": "python",
   "name": "python3"
  },
  "language_info": {
   "codemirror_mode": {
    "name": "ipython",
    "version": 3
   },
   "file_extension": ".py",
   "mimetype": "text/x-python",
   "name": "python",
   "nbconvert_exporter": "python",
   "pygments_lexer": "ipython3",
   "version": "3.8.5"
  }
 },
 "nbformat": 4,
 "nbformat_minor": 4
}
